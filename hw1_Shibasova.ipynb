{
 "cells": [
  {
   "cell_type": "markdown",
   "metadata": {},
   "source": [
    "# **Домашняя работа 1**\n",
    "## *Шибасова Дарья, БКЛ182*"
   ]
  },
  {
   "cell_type": "markdown",
   "metadata": {},
   "source": [
    "###### Делала совместно с Настей Вебер, Машей Козловой, Ликой Джиоевой и Людой Путятовой."
   ]
  },
  {
   "cell_type": "markdown",
   "metadata": {},
   "source": [
    "### Задание 1. Количество твитов"
   ]
  },
  {
   "cell_type": "code",
   "execution_count": 55,
   "metadata": {},
   "outputs": [
    {
     "name": "stdout",
     "output_type": "stream",
     "text": [
      "Длина: 2556\n"
     ]
    }
   ],
   "source": [
    "import json \n",
    "twitter = []\n",
    "for line in open('hw_3_twitter.json'):\n",
    "    twitter.append(json.loads(line))\n",
    "print('Длина:', len(twitter))"
   ]
  },
  {
   "cell_type": "markdown",
   "metadata": {},
   "source": [
    "### Задание 2. Процент удаленных твитов"
   ]
  },
  {
   "cell_type": "code",
   "execution_count": 34,
   "metadata": {},
   "outputs": [
    {
     "name": "stdout",
     "output_type": "stream",
     "text": [
      "Ответ: 14.162754303599373 % удаленных\n"
     ]
    }
   ],
   "source": [
    "print('Ответ:', (sum('delete' in t for t in twitter)/len(twitter))*100, '% удаленных')\n"
   ]
  },
  {
   "cell_type": "markdown",
   "metadata": {},
   "source": [
    "### Задание 3. Самые популярные языки"
   ]
  },
  {
   "cell_type": "code",
   "execution_count": 36,
   "metadata": {},
   "outputs": [
    {
     "name": "stdout",
     "output_type": "stream",
     "text": [
      "Ответ:\n",
      "1 - en\n",
      "2 - ja\n",
      "3 - es\n",
      "4 - ko\n",
      "5 - th\n",
      "6 - ar\n",
      "7 - und\n",
      "8 - in\n",
      "9 - pt\n",
      "10 - fr\n",
      "11 - tr\n",
      "12 - tl\n",
      "13 - hi\n",
      "14 - ru\n",
      "15 - fa\n"
     ]
    }
   ],
   "source": [
    "from collections import Counter\n",
    "\n",
    "#создаем список с языками неудаленных твитов\n",
    "languages = []\n",
    "for line in twitter:\n",
    "    if 'lang' in line:\n",
    "        languages.append(line['lang'])\n",
    "print ('Ответ:')\n",
    "for i in range(1, 16):\n",
    "#распечатываем эти языки\n",
    "    print(i, '-', Counter(languages).most_common(i)[-1][0])"
   ]
  },
  {
   "cell_type": "markdown",
   "metadata": {},
   "source": [
    "### Задание 4"
   ]
  },
  {
   "cell_type": "code",
   "execution_count": 45,
   "metadata": {},
   "outputs": [
    {
     "name": "stdout",
     "output_type": "stream",
     "text": [
      "Ответ: да, 25\n"
     ]
    }
   ],
   "source": [
    "#создаем список со всеми пользователями\n",
    "users = [] \n",
    "x = 0\n",
    "for i in range(len(twitter)):\n",
    "    if 'user' in twitter[i]:\n",
    "        users.append(twitter[i]['user']['id'])\n",
    "for i in Counter(users).most_common():\n",
    "    if i[1] > 1:\n",
    "        x += 1\n",
    "print('Ответ: да,', x)"
   ]
  },
  {
   "cell_type": "markdown",
   "metadata": {},
   "source": [
    "### Задание 5. Топ-20 хэштегов"
   ]
  },
  {
   "cell_type": "code",
   "execution_count": 72,
   "metadata": {},
   "outputs": [
    {
     "name": "stdout",
     "output_type": "stream",
     "text": [
      "Ответ:\n",
      "1 . BTS\n",
      "2 . 방탄소년단\n",
      "3 . AMAs\n",
      "4 . 人気投票ガチャ\n",
      "5 . 태형\n",
      "6 . 뷔\n",
      "7 . BTSinChicago\n",
      "8 . BTSLoveYourselfTour\n",
      "9 . 오늘의방탄\n",
      "10 . PledgeForSwachhBharat\n",
      "11 . MPN\n",
      "12 . PCAs\n",
      "13 . V\n",
      "14 . 시카고1회차공연\n",
      "15 . เป๊กผลิตโชค\n",
      "16 . JIMIN\n",
      "17 . running\n",
      "18 . NCT\n",
      "19 . 지민\n",
      "20 . WajahmuPlastik\n"
     ]
    }
   ],
   "source": [
    "list = []\n",
    "for i in range(len(twitter)): \n",
    "    if 'entities' in twitter[i]: \n",
    "        if 'hashtags' in twitter[i]['entities']: \n",
    "            for hash in twitter[i]['entities']['hashtags']: \n",
    "                list.append(hash['text']) \n",
    "c3 = Counter(list) \n",
    "d3 = (Counter(c3).most_common()) \n",
    "print('Ответ:') \n",
    "for i in range(20): \n",
    "     print(i+1,'.',d3[i][0])"
   ]
  },
  {
   "cell_type": "markdown",
   "metadata": {},
   "source": [
    "### Задание 6. Предобработать тексты оригинальных твитов (не ретвитов) на английском языке (убрать пунктуацию, привести к нижнему регистру) и составить частотный словарь"
   ]
  },
  {
   "cell_type": "code",
   "execution_count": 60,
   "metadata": {},
   "outputs": [
    {
     "name": "stdout",
     "output_type": "stream",
     "text": [
      "1 - ('the', 126)\n",
      "2 - ('to', 86)\n",
      "3 - ('a', 77)\n",
      "4 - ('i', 74)\n",
      "5 - ('and', 65)\n",
      "6 - ('is', 51)\n",
      "7 - ('you', 49)\n",
      "8 - ('of', 45)\n",
      "9 - ('for', 42)\n",
      "10 - ('it', 42)\n",
      "11 - ('in', 38)\n",
      "12 - ('that', 33)\n",
      "13 - ('this', 32)\n",
      "14 - ('my', 30)\n",
      "15 - ('me', 28)\n",
      "16 - ('be', 26)\n",
      "17 - ('on', 26)\n",
      "18 - ('its', 23)\n",
      "19 - ('im', 22)\n",
      "20 - ('what', 21)\n",
      "21 - ('are', 21)\n",
      "22 - ('so', 21)\n",
      "23 - ('with', 20)\n",
      "24 - ('have', 19)\n",
      "25 - ('your', 17)\n",
      "26 - ('not', 17)\n",
      "27 - ('more', 17)\n",
      "28 - ('but', 17)\n",
      "29 - ('at', 17)\n",
      "30 - ('get', 16)\n",
      "31 - ('about', 14)\n",
      "32 - ('like', 14)\n",
      "33 - ('just', 14)\n",
      "34 - ('we', 12)\n",
      "35 - ('all', 12)\n",
      "36 - ('now', 12)\n",
      "37 - ('was', 12)\n",
      "38 - ('he', 12)\n",
      "39 - ('up', 11)\n",
      "40 - ('they', 11)\n"
     ]
    }
   ],
   "source": [
    "nr = []\n",
    "for i in twitter:\n",
    "    if 'text' in i: \n",
    "        if not 'retweeted_status' in i and i['lang'] == 'en':\n",
    "            nr.append(i['text'])\n",
    "nr1 = ' '.join(nr)\n",
    "nr1 = re.sub(r'[^\\w\\s]', '', nr1)\n",
    "nr1 = nr1.lower()\n",
    "nr1 = nr1.split()\n",
    "for k in range(1, 41):\n",
    "    print(k, '-', Counter(nr1).most_common(k)[-1])\n"
   ]
  },
  {
   "cell_type": "markdown",
   "metadata": {},
   "source": [
    "### Задание 7"
   ]
  },
  {
   "cell_type": "code",
   "execution_count": 66,
   "metadata": {},
   "outputs": [
    {
     "name": "stdout",
     "output_type": "stream",
     "text": [
      "Ответ:\n",
      "1 . Filosofía♕ - 2521403\n",
      "2 . FITNESS Magazine - 1491309\n",
      "3 . malaysiakini.com - 1206759\n",
      "4 . NYT Science - 1137374\n",
      "5 . Gramática - 625463\n",
      "6 . TGRT Haber - 392472\n",
      "7 . The Sun Football ⚽ - 383698\n",
      "8 . Melbourne, Australia - 374222\n",
      "9 . Roznama Express - 318189\n",
      "10 . 💞 ცųཞɠɛཞცơơɠıɛ 💞 - 311319\n"
     ]
    }
   ],
   "source": [
    "dictionary = {} \n",
    "for i in range(len(twitter)): \n",
    "    if 'user' in twitter[i]: \n",
    "        dictionary[twitter[i]['user']['name']] = twitter[i]['user']['followers_count'] \n",
    "c4 = collections.Counter(dictionary) \n",
    "d4 = c4.most_common() \n",
    "print('Ответ:') \n",
    "for i in range(10): \n",
    "    print(i+1,'.',d4[i][0],'-' ,d4[i][1])"
   ]
  },
  {
   "cell_type": "code",
   "execution_count": null,
   "metadata": {},
   "outputs": [],
   "source": []
  }
 ],
 "metadata": {
  "kernelspec": {
   "display_name": "Python 3",
   "language": "python",
   "name": "python3"
  },
  "language_info": {
   "codemirror_mode": {
    "name": "ipython",
    "version": 3
   },
   "file_extension": ".py",
   "mimetype": "text/x-python",
   "name": "python",
   "nbconvert_exporter": "python",
   "pygments_lexer": "ipython3",
   "version": "3.7.3"
  }
 },
 "nbformat": 4,
 "nbformat_minor": 2
}
